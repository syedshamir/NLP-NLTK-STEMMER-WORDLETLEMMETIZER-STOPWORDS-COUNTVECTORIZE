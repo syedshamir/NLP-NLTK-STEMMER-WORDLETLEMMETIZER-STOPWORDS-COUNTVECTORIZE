{
 "cells": [
  {
   "cell_type": "code",
   "execution_count": 1,
   "id": "79ff8466",
   "metadata": {},
   "outputs": [
    {
     "name": "stdout",
     "output_type": "stream",
     "text": [
      "Requirement already satisfied: nltk in c:\\users\\asus\\anaconda3\\lib\\site-packages (3.7)\n",
      "Requirement already satisfied: tqdm in c:\\users\\asus\\anaconda3\\lib\\site-packages (from nltk) (4.64.1)\n",
      "Requirement already satisfied: click in c:\\users\\asus\\anaconda3\\lib\\site-packages (from nltk) (8.0.4)\n",
      "Requirement already satisfied: regex>=2021.8.3 in c:\\users\\asus\\anaconda3\\lib\\site-packages (from nltk) (2022.7.9)\n",
      "Requirement already satisfied: joblib in c:\\users\\asus\\anaconda3\\lib\\site-packages (from nltk) (1.2.0)\n",
      "Requirement already satisfied: colorama in c:\\users\\asus\\anaconda3\\lib\\site-packages (from click->nltk) (0.4.5)\n"
     ]
    },
    {
     "name": "stderr",
     "output_type": "stream",
     "text": [
      "WARNING: Ignoring invalid distribution -atplotlib (c:\\users\\asus\\anaconda3\\lib\\site-packages)\n",
      "WARNING: Ignoring invalid distribution -atplotlib (c:\\users\\asus\\anaconda3\\lib\\site-packages)\n",
      "WARNING: Ignoring invalid distribution -atplotlib (c:\\users\\asus\\anaconda3\\lib\\site-packages)\n",
      "WARNING: Ignoring invalid distribution -atplotlib (c:\\users\\asus\\anaconda3\\lib\\site-packages)\n",
      "WARNING: Ignoring invalid distribution -atplotlib (c:\\users\\asus\\anaconda3\\lib\\site-packages)\n",
      "WARNING: Ignoring invalid distribution -atplotlib (c:\\users\\asus\\anaconda3\\lib\\site-packages)\n"
     ]
    }
   ],
   "source": [
    "!pip install nltk"
   ]
  },
  {
   "cell_type": "code",
   "execution_count": 3,
   "id": "5e904d81",
   "metadata": {},
   "outputs": [],
   "source": [
    "paragraph = \"\"\"  \n",
    "Imran Ahmed Khan Niazi (Urdu: عمران خان , pronounced [ɪmɾaːn ɛɦməd xaːn nɪjaːziː]; born 5 October 1952) is a Pakistani politician and former cricketer who served as the 22nd prime minister of Pakistan from August 2018 until April 2022. He is the founder and former chairman of the political party Pakistan Tehreek-e-Insaf (PTI) from 1996 to 2023. He was the captain of the Pakistan national cricket team throughout the 1980s and early 90s.\n",
    "\n",
    "Born in Lahore, Khan graduated from Keble College, Oxford. He began his international cricket career in a 1971 Test series against England. Khan played until 1992, served as the team's captain intermittently between 1982 and 1992, and won the 1992 Cricket World Cup, Pakistan's only victory in the competition. Considered one of cricket's greatest all-rounders, Khan was later inducted into the ICC Cricket Hall of Fame. Founding the Pakistan Tehreek-e-Insaf (PTI) in 1996, Khan won a seat in the National Assembly in the 2002 general election, serving as an opposition member from Mianwali until 2007. PTI boycotted the 2008 general election and became the second-largest party by popular vote in the 2013 general election. In the 2018 general election, running on a populist platform, PTI became the largest party in the National Assembly, and formed a coalition government with independents with Khan as prime minister.\n",
    "\n",
    "\"\"\""
   ]
  },
  {
   "cell_type": "code",
   "execution_count": 5,
   "id": "1556dd6a",
   "metadata": {},
   "outputs": [
    {
     "data": {
      "text/plain": [
       "\"  \\nImran Ahmed Khan Niazi (Urdu: عمران خان , pronounced [ɪmɾaːn ɛɦməd xaːn nɪjaːziː]; born 5 October 1952) is a Pakistani politician and former cricketer who served as the 22nd prime minister of Pakistan from August 2018 until April 2022. He is the founder and former chairman of the political party Pakistan Tehreek-e-Insaf (PTI) from 1996 to 2023. He was the captain of the Pakistan national cricket team throughout the 1980s and early 90s.\\n\\nBorn in Lahore, Khan graduated from Keble College, Oxford. He began his international cricket career in a 1971 Test series against England. Khan played until 1992, served as the team's captain intermittently between 1982 and 1992, and won the 1992 Cricket World Cup, Pakistan's only victory in the competition. Considered one of cricket's greatest all-rounders, Khan was later inducted into the ICC Cricket Hall of Fame. Founding the Pakistan Tehreek-e-Insaf (PTI) in 1996, Khan won a seat in the National Assembly in the 2002 general election, serving as an opposition member from Mianwali until 2007. PTI boycotted the 2008 general election and became the second-largest party by popular vote in the 2013 general election. In the 2018 general election, running on a populist platform, PTI became the largest party in the National Assembly, and formed a coalition government with independents with Khan as prime minister.\\n\\n\""
      ]
     },
     "execution_count": 5,
     "metadata": {},
     "output_type": "execute_result"
    }
   ],
   "source": [
    "paragraph"
   ]
  },
  {
   "cell_type": "code",
   "execution_count": 7,
   "id": "fe2ddf33",
   "metadata": {},
   "outputs": [],
   "source": [
    "import  \n",
    "from nltk.stem import PorterStemmer\n",
    "from nltk.corpus import stopwords"
   ]
  },
  {
   "cell_type": "code",
   "execution_count": 8,
   "id": "89a0c9d1",
   "metadata": {},
   "outputs": [
    {
     "name": "stderr",
     "output_type": "stream",
     "text": [
      "[nltk_data] Downloading package punkt to\n",
      "[nltk_data]     C:\\Users\\ASUS\\AppData\\Roaming\\nltk_data...\n",
      "[nltk_data]   Unzipping tokenizers\\punkt.zip.\n"
     ]
    }
   ],
   "source": [
    "#tokenization -- converts paragraph sentences to words\n",
    "nltk.download('punkt')\n",
    "sentences = nltk.sent_tokenize(paragraph)"
   ]
  },
  {
   "cell_type": "code",
   "execution_count": 9,
   "id": "e452fd64",
   "metadata": {},
   "outputs": [
    {
     "data": {
      "text/plain": [
       "['  \\nImran Ahmed Khan Niazi (Urdu: عمران خان , pronounced [ɪmɾaːn ɛɦməd xaːn nɪjaːziː]; born 5 October 1952) is a Pakistani politician and former cricketer who served as the 22nd prime minister of Pakistan from August 2018 until April 2022.',\n",
       " 'He is the founder and former chairman of the political party Pakistan Tehreek-e-Insaf (PTI) from 1996 to 2023.',\n",
       " 'He was the captain of the Pakistan national cricket team throughout the 1980s and early 90s.',\n",
       " 'Born in Lahore, Khan graduated from Keble College, Oxford.',\n",
       " 'He began his international cricket career in a 1971 Test series against England.',\n",
       " \"Khan played until 1992, served as the team's captain intermittently between 1982 and 1992, and won the 1992 Cricket World Cup, Pakistan's only victory in the competition.\",\n",
       " \"Considered one of cricket's greatest all-rounders, Khan was later inducted into the ICC Cricket Hall of Fame.\",\n",
       " 'Founding the Pakistan Tehreek-e-Insaf (PTI) in 1996, Khan won a seat in the National Assembly in the 2002 general election, serving as an opposition member from Mianwali until 2007.',\n",
       " 'PTI boycotted the 2008 general election and became the second-largest party by popular vote in the 2013 general election.',\n",
       " 'In the 2018 general election, running on a populist platform, PTI became the largest party in the National Assembly, and formed a coalition government with independents with Khan as prime minister.']"
      ]
     },
     "execution_count": 9,
     "metadata": {},
     "output_type": "execute_result"
    }
   ],
   "source": [
    "sentences"
   ]
  },
  {
   "cell_type": "code",
   "execution_count": 10,
   "id": "0767e062",
   "metadata": {},
   "outputs": [],
   "source": [
    "#stemming - to find base root word\n",
    "stemmer = PorterStemmer()\n"
   ]
  },
  {
   "cell_type": "code",
   "execution_count": 15,
   "id": "af1d1255",
   "metadata": {},
   "outputs": [
    {
     "data": {
      "text/plain": [
       "'cute'"
      ]
     },
     "execution_count": 15,
     "metadata": {},
     "output_type": "execute_result"
    }
   ],
   "source": [
    "stemmer.stem('cute')"
   ]
  },
  {
   "cell_type": "code",
   "execution_count": 19,
   "id": "f0d8987e",
   "metadata": {},
   "outputs": [],
   "source": [
    "#Lemmmatizer\n",
    "from nltk.stem import WordNetLemmatizer"
   ]
  },
  {
   "cell_type": "code",
   "execution_count": 21,
   "id": "0766458c",
   "metadata": {},
   "outputs": [
    {
     "name": "stderr",
     "output_type": "stream",
     "text": [
      "[nltk_data] Downloading package wordnet to\n",
      "[nltk_data]     C:\\Users\\ASUS\\AppData\\Roaming\\nltk_data...\n"
     ]
    },
    {
     "data": {
      "text/plain": [
       "True"
      ]
     },
     "execution_count": 21,
     "metadata": {},
     "output_type": "execute_result"
    }
   ],
   "source": [
    "nltk.download('wordnet')"
   ]
  },
  {
   "cell_type": "code",
   "execution_count": 25,
   "id": "04bb8a01",
   "metadata": {},
   "outputs": [
    {
     "name": "stderr",
     "output_type": "stream",
     "text": [
      "[nltk_data] Downloading package omw-1.4 to\n",
      "[nltk_data]     C:\\Users\\ASUS\\AppData\\Roaming\\nltk_data...\n"
     ]
    },
    {
     "data": {
      "text/plain": [
       "True"
      ]
     },
     "execution_count": 25,
     "metadata": {},
     "output_type": "execute_result"
    }
   ],
   "source": [
    "nltk.download('omw-1.4')"
   ]
  },
  {
   "cell_type": "code",
   "execution_count": 26,
   "id": "c0e84fab",
   "metadata": {},
   "outputs": [],
   "source": [
    "lemmatizer = WordNetLemmatizer()"
   ]
  },
  {
   "cell_type": "code",
   "execution_count": 32,
   "id": "283d5b94",
   "metadata": {},
   "outputs": [
    {
     "data": {
      "text/plain": [
       "'whose'"
      ]
     },
     "execution_count": 32,
     "metadata": {},
     "output_type": "execute_result"
    }
   ],
   "source": [
    "lemmatizer.lemmatize('whose')"
   ]
  },
  {
   "cell_type": "code",
   "execution_count": 33,
   "id": "fc072000",
   "metadata": {},
   "outputs": [
    {
     "data": {
      "text/plain": [
       "10"
      ]
     },
     "execution_count": 33,
     "metadata": {},
     "output_type": "execute_result"
    }
   ],
   "source": [
    "len(sentences)"
   ]
  },
  {
   "cell_type": "code",
   "execution_count": 34,
   "id": "7533d60e",
   "metadata": {},
   "outputs": [],
   "source": [
    "import re"
   ]
  },
  {
   "cell_type": "code",
   "execution_count": 36,
   "id": "e53296b9",
   "metadata": {},
   "outputs": [],
   "source": [
    "corpus = []\n",
    "for i in range(len(sentences)): #replace all the special characters with blank character\n",
    "    review = re.sub('[^a-zA-Z]', ' ', sentences[i])\n",
    "    review = review.lower()\n",
    "    corpus.append(review)"
   ]
  },
  {
   "cell_type": "code",
   "execution_count": 37,
   "id": "04c5959d",
   "metadata": {},
   "outputs": [
    {
     "data": {
      "text/plain": [
       "['   imran ahmed khan niazi  urdu              pronounced   m a n   m d xa n n ja zi    born   october       is a pakistani politician and former cricketer who served as the   nd prime minister of pakistan from august      until april      ',\n",
       " 'he is the founder and former chairman of the political party pakistan tehreek e insaf  pti  from      to      ',\n",
       " 'he was the captain of the pakistan national cricket team throughout the     s and early   s ',\n",
       " 'born in lahore  khan graduated from keble college  oxford ',\n",
       " 'he began his international cricket career in a      test series against england ',\n",
       " 'khan played until       served as the team s captain intermittently between      and       and won the      cricket world cup  pakistan s only victory in the competition ',\n",
       " 'considered one of cricket s greatest all rounders  khan was later inducted into the icc cricket hall of fame ',\n",
       " 'founding the pakistan tehreek e insaf  pti  in       khan won a seat in the national assembly in the      general election  serving as an opposition member from mianwali until      ',\n",
       " 'pti boycotted the      general election and became the second largest party by popular vote in the      general election ',\n",
       " 'in the      general election  running on a populist platform  pti became the largest party in the national assembly  and formed a coalition government with independents with khan as prime minister ']"
      ]
     },
     "execution_count": 37,
     "metadata": {},
     "output_type": "execute_result"
    }
   ],
   "source": [
    "corpus"
   ]
  },
  {
   "cell_type": "code",
   "execution_count": 41,
   "id": "5d6c201c",
   "metadata": {},
   "outputs": [
    {
     "name": "stderr",
     "output_type": "stream",
     "text": [
      "[nltk_data] Downloading package stopwords to\n",
      "[nltk_data]     C:\\Users\\ASUS\\AppData\\Roaming\\nltk_data...\n",
      "[nltk_data]   Unzipping corpora\\stopwords.zip.\n"
     ]
    },
    {
     "data": {
      "text/plain": [
       "True"
      ]
     },
     "execution_count": 41,
     "metadata": {},
     "output_type": "execute_result"
    }
   ],
   "source": [
    "nltk.download('stopwords')"
   ]
  },
  {
   "cell_type": "code",
   "execution_count": 42,
   "id": "72536da1",
   "metadata": {},
   "outputs": [
    {
     "name": "stdout",
     "output_type": "stream",
     "text": [
      "imran\n",
      "ahm\n",
      "khan\n",
      "niazi\n",
      "urdu\n",
      "pronounc\n",
      "n\n",
      "xa\n",
      "n\n",
      "n\n",
      "ja\n",
      "zi\n",
      "born\n",
      "octob\n",
      "pakistani\n",
      "politician\n",
      "former\n",
      "cricket\n",
      "serv\n",
      "nd\n",
      "prime\n",
      "minist\n",
      "pakistan\n",
      "august\n",
      "april\n",
      "founder\n",
      "former\n",
      "chairman\n",
      "polit\n",
      "parti\n",
      "pakistan\n",
      "tehreek\n",
      "e\n",
      "insaf\n",
      "pti\n",
      "captain\n",
      "pakistan\n",
      "nation\n",
      "cricket\n",
      "team\n",
      "throughout\n",
      "earli\n",
      "born\n",
      "lahor\n",
      "khan\n",
      "graduat\n",
      "kebl\n",
      "colleg\n",
      "oxford\n",
      "began\n",
      "intern\n",
      "cricket\n",
      "career\n",
      "test\n",
      "seri\n",
      "england\n",
      "khan\n",
      "play\n",
      "serv\n",
      "team\n",
      "captain\n",
      "intermitt\n",
      "cricket\n",
      "world\n",
      "cup\n",
      "pakistan\n",
      "victori\n",
      "competit\n",
      "consid\n",
      "one\n",
      "cricket\n",
      "greatest\n",
      "rounder\n",
      "khan\n",
      "later\n",
      "induct\n",
      "icc\n",
      "cricket\n",
      "hall\n",
      "fame\n",
      "found\n",
      "pakistan\n",
      "tehreek\n",
      "e\n",
      "insaf\n",
      "pti\n",
      "khan\n",
      "seat\n",
      "nation\n",
      "assembl\n",
      "gener\n",
      "elect\n",
      "serv\n",
      "opposit\n",
      "member\n",
      "mianwali\n",
      "pti\n",
      "boycot\n",
      "gener\n",
      "elect\n",
      "becam\n",
      "second\n",
      "largest\n",
      "parti\n",
      "popular\n",
      "vote\n",
      "gener\n",
      "elect\n",
      "gener\n",
      "elect\n",
      "run\n",
      "populist\n",
      "platform\n",
      "pti\n",
      "becam\n",
      "largest\n",
      "parti\n",
      "nation\n",
      "assembl\n",
      "form\n",
      "coalit\n",
      "govern\n",
      "independ\n",
      "khan\n",
      "prime\n",
      "minist\n"
     ]
    }
   ],
   "source": [
    "#stemming on corpus\n",
    "for i in corpus:\n",
    "    words = nltk.word_tokenize(i) #word_tokenize will make sure i am getting words from sentences in corpus.\n",
    "    for word in words: #apply stemming to every word\n",
    "        if word not in set(stopwords.words('english')):\n",
    "            print(stemmer.stem(word))"
   ]
  },
  {
   "cell_type": "code",
   "execution_count": 43,
   "id": "31baa425",
   "metadata": {},
   "outputs": [
    {
     "data": {
      "text/plain": [
       "['i',\n",
       " 'me',\n",
       " 'my',\n",
       " 'myself',\n",
       " 'we',\n",
       " 'our',\n",
       " 'ours',\n",
       " 'ourselves',\n",
       " 'you',\n",
       " \"you're\",\n",
       " \"you've\",\n",
       " \"you'll\",\n",
       " \"you'd\",\n",
       " 'your',\n",
       " 'yours',\n",
       " 'yourself',\n",
       " 'yourselves',\n",
       " 'he',\n",
       " 'him',\n",
       " 'his',\n",
       " 'himself',\n",
       " 'she',\n",
       " \"she's\",\n",
       " 'her',\n",
       " 'hers',\n",
       " 'herself',\n",
       " 'it',\n",
       " \"it's\",\n",
       " 'its',\n",
       " 'itself',\n",
       " 'they',\n",
       " 'them',\n",
       " 'their',\n",
       " 'theirs',\n",
       " 'themselves',\n",
       " 'what',\n",
       " 'which',\n",
       " 'who',\n",
       " 'whom',\n",
       " 'this',\n",
       " 'that',\n",
       " \"that'll\",\n",
       " 'these',\n",
       " 'those',\n",
       " 'am',\n",
       " 'is',\n",
       " 'are',\n",
       " 'was',\n",
       " 'were',\n",
       " 'be',\n",
       " 'been',\n",
       " 'being',\n",
       " 'have',\n",
       " 'has',\n",
       " 'had',\n",
       " 'having',\n",
       " 'do',\n",
       " 'does',\n",
       " 'did',\n",
       " 'doing',\n",
       " 'a',\n",
       " 'an',\n",
       " 'the',\n",
       " 'and',\n",
       " 'but',\n",
       " 'if',\n",
       " 'or',\n",
       " 'because',\n",
       " 'as',\n",
       " 'until',\n",
       " 'while',\n",
       " 'of',\n",
       " 'at',\n",
       " 'by',\n",
       " 'for',\n",
       " 'with',\n",
       " 'about',\n",
       " 'against',\n",
       " 'between',\n",
       " 'into',\n",
       " 'through',\n",
       " 'during',\n",
       " 'before',\n",
       " 'after',\n",
       " 'above',\n",
       " 'below',\n",
       " 'to',\n",
       " 'from',\n",
       " 'up',\n",
       " 'down',\n",
       " 'in',\n",
       " 'out',\n",
       " 'on',\n",
       " 'off',\n",
       " 'over',\n",
       " 'under',\n",
       " 'again',\n",
       " 'further',\n",
       " 'then',\n",
       " 'once',\n",
       " 'here',\n",
       " 'there',\n",
       " 'when',\n",
       " 'where',\n",
       " 'why',\n",
       " 'how',\n",
       " 'all',\n",
       " 'any',\n",
       " 'both',\n",
       " 'each',\n",
       " 'few',\n",
       " 'more',\n",
       " 'most',\n",
       " 'other',\n",
       " 'some',\n",
       " 'such',\n",
       " 'no',\n",
       " 'nor',\n",
       " 'not',\n",
       " 'only',\n",
       " 'own',\n",
       " 'same',\n",
       " 'so',\n",
       " 'than',\n",
       " 'too',\n",
       " 'very',\n",
       " 's',\n",
       " 't',\n",
       " 'can',\n",
       " 'will',\n",
       " 'just',\n",
       " 'don',\n",
       " \"don't\",\n",
       " 'should',\n",
       " \"should've\",\n",
       " 'now',\n",
       " 'd',\n",
       " 'll',\n",
       " 'm',\n",
       " 'o',\n",
       " 're',\n",
       " 've',\n",
       " 'y',\n",
       " 'ain',\n",
       " 'aren',\n",
       " \"aren't\",\n",
       " 'couldn',\n",
       " \"couldn't\",\n",
       " 'didn',\n",
       " \"didn't\",\n",
       " 'doesn',\n",
       " \"doesn't\",\n",
       " 'hadn',\n",
       " \"hadn't\",\n",
       " 'hasn',\n",
       " \"hasn't\",\n",
       " 'haven',\n",
       " \"haven't\",\n",
       " 'isn',\n",
       " \"isn't\",\n",
       " 'ma',\n",
       " 'mightn',\n",
       " \"mightn't\",\n",
       " 'mustn',\n",
       " \"mustn't\",\n",
       " 'needn',\n",
       " \"needn't\",\n",
       " 'shan',\n",
       " \"shan't\",\n",
       " 'shouldn',\n",
       " \"shouldn't\",\n",
       " 'wasn',\n",
       " \"wasn't\",\n",
       " 'weren',\n",
       " \"weren't\",\n",
       " 'won',\n",
       " \"won't\",\n",
       " 'wouldn',\n",
       " \"wouldn't\"]"
      ]
     },
     "execution_count": 43,
     "metadata": {},
     "output_type": "execute_result"
    }
   ],
   "source": [
    "#list of stopwords in english\n",
    "stopwords.words('english')"
   ]
  },
  {
   "cell_type": "code",
   "execution_count": 44,
   "id": "1156b248",
   "metadata": {},
   "outputs": [],
   "source": [
    "from sklearn.feature_extraction.text import CountVectorizer\n",
    "cv = CountVectorizer()"
   ]
  },
  {
   "cell_type": "code",
   "execution_count": 47,
   "id": "6b87c6b4",
   "metadata": {},
   "outputs": [],
   "source": [
    "X = cv.fit_transform(corpus) #convert words to index (feature number)"
   ]
  },
  {
   "cell_type": "code",
   "execution_count": 49,
   "id": "a766ffc0",
   "metadata": {},
   "outputs": [
    {
     "data": {
      "text/plain": [
       "{'imran': 42,\n",
       " 'ahmed': 1,\n",
       " 'khan': 53,\n",
       " 'niazi': 62,\n",
       " 'urdu': 96,\n",
       " 'pronounced': 80,\n",
       " 'xa': 104,\n",
       " 'ja': 51,\n",
       " 'zi': 105,\n",
       " 'born': 12,\n",
       " 'october': 63,\n",
       " 'is': 50,\n",
       " 'pakistani': 71,\n",
       " 'politician': 76,\n",
       " 'and': 4,\n",
       " 'former': 30,\n",
       " 'cricketer': 23,\n",
       " 'who': 100,\n",
       " 'served': 87,\n",
       " 'as': 6,\n",
       " 'the': 92,\n",
       " 'nd': 61,\n",
       " 'prime': 79,\n",
       " 'minister': 59,\n",
       " 'of': 64,\n",
       " 'pakistan': 70,\n",
       " 'from': 33,\n",
       " 'august': 8,\n",
       " 'until': 95,\n",
       " 'april': 5,\n",
       " 'he': 39,\n",
       " 'founder': 31,\n",
       " 'chairman': 17,\n",
       " 'political': 75,\n",
       " 'party': 72,\n",
       " 'tehreek': 90,\n",
       " 'insaf': 46,\n",
       " 'pti': 81,\n",
       " 'to': 94,\n",
       " 'was': 99,\n",
       " 'captain': 15,\n",
       " 'national': 60,\n",
       " 'cricket': 22,\n",
       " 'team': 89,\n",
       " 'throughout': 93,\n",
       " 'early': 25,\n",
       " 'in': 43,\n",
       " 'lahore': 54,\n",
       " 'graduated': 36,\n",
       " 'keble': 52,\n",
       " 'college': 19,\n",
       " 'oxford': 69,\n",
       " 'began': 10,\n",
       " 'his': 40,\n",
       " 'international': 48,\n",
       " 'career': 16,\n",
       " 'test': 91,\n",
       " 'series': 86,\n",
       " 'against': 0,\n",
       " 'england': 27,\n",
       " 'played': 74,\n",
       " 'intermittently': 47,\n",
       " 'between': 11,\n",
       " 'won': 102,\n",
       " 'world': 103,\n",
       " 'cup': 24,\n",
       " 'only': 67,\n",
       " 'victory': 97,\n",
       " 'competition': 20,\n",
       " 'considered': 21,\n",
       " 'one': 66,\n",
       " 'greatest': 37,\n",
       " 'all': 2,\n",
       " 'rounders': 82,\n",
       " 'later': 56,\n",
       " 'inducted': 45,\n",
       " 'into': 49,\n",
       " 'icc': 41,\n",
       " 'hall': 38,\n",
       " 'fame': 28,\n",
       " 'founding': 32,\n",
       " 'seat': 84,\n",
       " 'assembly': 7,\n",
       " 'general': 34,\n",
       " 'election': 26,\n",
       " 'serving': 88,\n",
       " 'an': 3,\n",
       " 'opposition': 68,\n",
       " 'member': 57,\n",
       " 'mianwali': 58,\n",
       " 'boycotted': 13,\n",
       " 'became': 9,\n",
       " 'second': 85,\n",
       " 'largest': 55,\n",
       " 'by': 14,\n",
       " 'popular': 77,\n",
       " 'vote': 98,\n",
       " 'running': 83,\n",
       " 'on': 65,\n",
       " 'populist': 78,\n",
       " 'platform': 73,\n",
       " 'formed': 29,\n",
       " 'coalition': 18,\n",
       " 'government': 35,\n",
       " 'with': 101,\n",
       " 'independents': 44}"
      ]
     },
     "execution_count": 49,
     "metadata": {},
     "output_type": "execute_result"
    }
   ],
   "source": [
    "cv.vocabulary_"
   ]
  },
  {
   "cell_type": "code",
   "execution_count": 53,
   "id": "1f894c7d",
   "metadata": {},
   "outputs": [
    {
     "data": {
      "text/plain": [
       "array([[0, 0, 0, 0, 1, 0, 0, 0, 0, 0, 0, 0, 0, 0, 0, 0, 0, 1, 0, 0, 0, 0,\n",
       "        0, 0, 0, 0, 0, 0, 0, 0, 1, 1, 0, 1, 0, 0, 0, 0, 0, 1, 0, 0, 0, 0,\n",
       "        0, 0, 1, 0, 0, 0, 1, 0, 0, 0, 0, 0, 0, 0, 0, 0, 0, 0, 0, 0, 1, 0,\n",
       "        0, 0, 0, 0, 1, 0, 1, 0, 0, 1, 0, 0, 0, 0, 0, 1, 0, 0, 0, 0, 0, 0,\n",
       "        0, 0, 1, 0, 2, 0, 1, 0, 0, 0, 0, 0, 0, 0, 0, 0, 0, 0]],\n",
       "      dtype=int64)"
      ]
     },
     "execution_count": 53,
     "metadata": {},
     "output_type": "execute_result"
    }
   ],
   "source": [
    "X[1].toarray()"
   ]
  },
  {
   "cell_type": "code",
   "execution_count": 54,
   "id": "8f5f07b6",
   "metadata": {},
   "outputs": [],
   "source": [
    "cv = CountVectorizer(binary = True)"
   ]
  },
  {
   "cell_type": "code",
   "execution_count": 55,
   "id": "c65a9c43",
   "metadata": {},
   "outputs": [],
   "source": [
    "X = cv.fit_transform(corpus) #convert words to index (feature number)"
   ]
  },
  {
   "cell_type": "code",
   "execution_count": 56,
   "id": "a11e1f4a",
   "metadata": {},
   "outputs": [
    {
     "data": {
      "text/plain": [
       "array([[0, 0, 0, 0, 1, 0, 0, 0, 0, 0, 0, 0, 0, 0, 0, 0, 0, 1, 0, 0, 0, 0,\n",
       "        0, 0, 0, 0, 0, 0, 0, 0, 1, 1, 0, 1, 0, 0, 0, 0, 0, 1, 0, 0, 0, 0,\n",
       "        0, 0, 1, 0, 0, 0, 1, 0, 0, 0, 0, 0, 0, 0, 0, 0, 0, 0, 0, 0, 1, 0,\n",
       "        0, 0, 0, 0, 1, 0, 1, 0, 0, 1, 0, 0, 0, 0, 0, 1, 0, 0, 0, 0, 0, 0,\n",
       "        0, 0, 1, 0, 1, 0, 1, 0, 0, 0, 0, 0, 0, 0, 0, 0, 0, 0]],\n",
       "      dtype=int64)"
      ]
     },
     "execution_count": 56,
     "metadata": {},
     "output_type": "execute_result"
    }
   ],
   "source": [
    "X[1].toarray() # no index more than 1"
   ]
  },
  {
   "cell_type": "markdown",
   "id": "c9287a38",
   "metadata": {},
   "source": [
    "corpus1 = []\n",
    "for i in range(len(sentences)): #replace all the special characters with blank character\n",
    "    review = re.sub('[^a-zA-Z]', ' ', sentences[i])\n",
    "    review = review.lower()\n",
    "    review = review.split()\n",
    "    review = [lemmatizer.lemmatize(word) for word in review if not word in set(stopwords.words('english'))]\n",
    "    review = ' '.join(review)\n",
    "    corpus1.append(review)"
   ]
  },
  {
   "cell_type": "code",
   "execution_count": 72,
   "id": "97bf505e",
   "metadata": {},
   "outputs": [],
   "source": [
    "#apply stopwords and lemmatize\n",
    "corpus1 = [] \n",
    "for i in range(len(sentences)): #replace all the special characters with blank character \n",
    "    review = re.sub('[^a-zA-Z]', ' ', sentences[i]) \n",
    "    review = review.lower() \n",
    "    review = review.split() \n",
    "    review = [lemmatizer.lemmatize(word) for word in review if not word in set(stopwords.words('english'))] \n",
    "    review = ' '.join(review) \n",
    "    corpus1.append(review)"
   ]
  },
  {
   "cell_type": "code",
   "execution_count": 73,
   "id": "88312c67",
   "metadata": {},
   "outputs": [],
   "source": [
    "from sklearn.feature_extraction.text import CountVectorizer\n",
    "cv2 = CountVectorizer()"
   ]
  },
  {
   "cell_type": "code",
   "execution_count": 74,
   "id": "7bc6b26f",
   "metadata": {},
   "outputs": [],
   "source": [
    "X2 = cv2.fit_transform(corpus1) #convert words to index (feature number)"
   ]
  },
  {
   "cell_type": "code",
   "execution_count": 75,
   "id": "141b6c16",
   "metadata": {},
   "outputs": [
    {
     "data": {
      "text/plain": [
       "{'imran': 32,\n",
       " 'ahmed': 0,\n",
       " 'khan': 40,\n",
       " 'niazi': 49,\n",
       " 'urdu': 77,\n",
       " 'pronounced': 64,\n",
       " 'xa': 81,\n",
       " 'ja': 38,\n",
       " 'zi': 82,\n",
       " 'born': 6,\n",
       " 'october': 50,\n",
       " 'pakistani': 55,\n",
       " 'politician': 60,\n",
       " 'former': 23,\n",
       " 'cricketer': 16,\n",
       " 'served': 71,\n",
       " 'nd': 48,\n",
       " 'prime': 63,\n",
       " 'minister': 46,\n",
       " 'pakistan': 54,\n",
       " 'august': 3,\n",
       " 'april': 1,\n",
       " 'founder': 24,\n",
       " 'chairman': 10,\n",
       " 'political': 59,\n",
       " 'party': 56,\n",
       " 'tehreek': 74,\n",
       " 'insaf': 35,\n",
       " 'pti': 65,\n",
       " 'captain': 8,\n",
       " 'national': 47,\n",
       " 'cricket': 15,\n",
       " 'team': 73,\n",
       " 'throughout': 76,\n",
       " 'early': 18,\n",
       " 'lahore': 41,\n",
       " 'graduated': 28,\n",
       " 'keble': 39,\n",
       " 'college': 12,\n",
       " 'oxford': 53,\n",
       " 'began': 5,\n",
       " 'international': 37,\n",
       " 'career': 9,\n",
       " 'test': 75,\n",
       " 'series': 70,\n",
       " 'england': 20,\n",
       " 'played': 58,\n",
       " 'intermittently': 36,\n",
       " 'world': 80,\n",
       " 'cup': 17,\n",
       " 'victory': 78,\n",
       " 'competition': 13,\n",
       " 'considered': 14,\n",
       " 'one': 51,\n",
       " 'greatest': 29,\n",
       " 'rounder': 66,\n",
       " 'later': 43,\n",
       " 'inducted': 34,\n",
       " 'icc': 31,\n",
       " 'hall': 30,\n",
       " 'fame': 21,\n",
       " 'founding': 25,\n",
       " 'seat': 68,\n",
       " 'assembly': 2,\n",
       " 'general': 26,\n",
       " 'election': 19,\n",
       " 'serving': 72,\n",
       " 'opposition': 52,\n",
       " 'member': 44,\n",
       " 'mianwali': 45,\n",
       " 'boycotted': 7,\n",
       " 'became': 4,\n",
       " 'second': 69,\n",
       " 'largest': 42,\n",
       " 'popular': 61,\n",
       " 'vote': 79,\n",
       " 'running': 67,\n",
       " 'populist': 62,\n",
       " 'platform': 57,\n",
       " 'formed': 22,\n",
       " 'coalition': 11,\n",
       " 'government': 27,\n",
       " 'independent': 33}"
      ]
     },
     "execution_count": 75,
     "metadata": {},
     "output_type": "execute_result"
    }
   ],
   "source": [
    "cv2.vocabulary_"
   ]
  },
  {
   "cell_type": "code",
   "execution_count": null,
   "id": "5bec4007",
   "metadata": {},
   "outputs": [],
   "source": []
  }
 ],
 "metadata": {
  "kernelspec": {
   "display_name": "Python 3 (ipykernel)",
   "language": "python",
   "name": "python3"
  },
  "language_info": {
   "codemirror_mode": {
    "name": "ipython",
    "version": 3
   },
   "file_extension": ".py",
   "mimetype": "text/x-python",
   "name": "python",
   "nbconvert_exporter": "python",
   "pygments_lexer": "ipython3",
   "version": "3.9.13"
  }
 },
 "nbformat": 4,
 "nbformat_minor": 5
}
